{
 "cells": [
  {
   "cell_type": "code",
   "execution_count": 4,
   "metadata": {},
   "outputs": [
    {
     "name": "stdout",
     "output_type": "stream",
     "text": [
      "('m', 'o', 'h')\n",
      "('m', 'o', 'a')\n",
      "('m', 'o', 'n')\n",
      "('m', 'o', 'a')\n",
      "('m', 'h', 'a')\n",
      "('m', 'h', 'n')\n",
      "('m', 'h', 'a')\n",
      "('m', 'a', 'n')\n",
      "('m', 'a', 'a')\n",
      "('m', 'n', 'a')\n",
      "('o', 'h', 'a')\n",
      "('o', 'h', 'n')\n",
      "('o', 'h', 'a')\n",
      "('o', 'a', 'n')\n",
      "('o', 'a', 'a')\n",
      "('o', 'n', 'a')\n",
      "('h', 'a', 'n')\n",
      "('h', 'a', 'a')\n",
      "('h', 'n', 'a')\n",
      "('a', 'n', 'a')\n",
      "20\n"
     ]
    }
   ],
   "source": [
    "import itertools\n",
    "str=\"mohana\"\n",
    "count=0\n",
    "for i in itertools.combinations(str,3):\n",
    "    print(i)\n",
    "    count=count+1\n",
    "print(count)"
   ]
  },
  {
   "cell_type": "code",
   "execution_count": 5,
   "metadata": {},
   "outputs": [
    {
     "data": {
      "text/plain": [
       "[('j', 'm'), ('a', 'o'), ('i', 'n')]"
      ]
     },
     "execution_count": 5,
     "metadata": {},
     "output_type": "execute_result"
    }
   ],
   "source": [
    "list(zip(['j','a','i'],['m','o','n']))\n"
   ]
  },
  {
   "cell_type": "code",
   "execution_count": 12,
   "metadata": {},
   "outputs": [
    {
     "name": "stdout",
     "output_type": "stream",
     "text": [
      "[[0, 0, 0, 0, 0], [0, 0, 0, 0, 0], [0, 0, 0, 0, 0], [0, 0, 0, 0, 0], [0, 0, 0, 0, 0]]\n"
     ]
    }
   ],
   "source": [
    "table = [[0 for x in range(5)] for y in range(5)] \n",
    "print(table)"
   ]
  },
  {
   "cell_type": "code",
   "execution_count": null,
   "metadata": {},
   "outputs": [],
   "source": [
    "def sum():\n",
    "    a=10\n",
    "    b=20\n",
    "    print(a+b)\n",
    "\n",
    "if __name__==\"__main__\":\n",
    "    sum()\n",
    "    print(__name__)"
   ]
  },
  {
   "cell_type": "code",
   "execution_count": 3,
   "metadata": {},
   "outputs": [],
   "source": [
    "class Myclass:\n",
    "    def method(self):\n",
    "        return (\"instance method called\",self)\n",
    "    @classmethod\n",
    "    def classmethod(cls):\n",
    "        return (\"class method called\",cls)\n",
    "    @staticmethod\n",
    "    def staticmethod():\n",
    "        return (\"static method called\")"
   ]
  },
  {
   "cell_type": "code",
   "execution_count": 11,
   "metadata": {},
   "outputs": [
    {
     "ename": "NameError",
     "evalue": "name 'self' is not defined",
     "output_type": "error",
     "traceback": [
      "\u001b[0;31m---------------------------------------------------------------------------\u001b[0m",
      "\u001b[0;31mNameError\u001b[0m                                 Traceback (most recent call last)",
      "\u001b[0;32m<ipython-input-11-8ce7d3bf21fd>\u001b[0m in \u001b[0;36m<module>\u001b[0;34m()\u001b[0m\n\u001b[1;32m      5\u001b[0m \u001b[0mMyclass\u001b[0m\u001b[0;34m.\u001b[0m\u001b[0mclassmethod\u001b[0m\u001b[0;34m(\u001b[0m\u001b[0;34m)\u001b[0m\u001b[0;34m\u001b[0m\u001b[0m\n\u001b[1;32m      6\u001b[0m \u001b[0mMyclass\u001b[0m\u001b[0;34m.\u001b[0m\u001b[0mstaticmethod\u001b[0m\u001b[0;34m(\u001b[0m\u001b[0;34m)\u001b[0m\u001b[0;34m\u001b[0m\u001b[0m\n\u001b[0;32m----> 7\u001b[0;31m \u001b[0mMyclass\u001b[0m\u001b[0;34m.\u001b[0m\u001b[0mmethod\u001b[0m\u001b[0;34m(\u001b[0m\u001b[0mself\u001b[0m\u001b[0;34m)\u001b[0m\u001b[0;34m\u001b[0m\u001b[0m\n\u001b[0m",
      "\u001b[0;31mNameError\u001b[0m: name 'self' is not defined"
     ]
    }
   ],
   "source": [
    "obj=Myclass()\n",
    "obj.method()\n",
    "obj.classmethod()\n",
    "obj.staticmethod()\n",
    "Myclass.classmethod()\n",
    "Myclass.staticmethod()\n",
    "Myclass.method()"
   ]
  },
  {
   "cell_type": "code",
   "execution_count": 77,
   "metadata": {},
   "outputs": [
    {
     "name": "stdout",
     "output_type": "stream",
     "text": [
      "3\n",
      "3\n",
      "16\n",
      "24\n",
      "60\n",
      "498\n",
      "861\n",
      "589\n",
      "[(16, 498), (24, 861), (60, 589)]\n",
      "14\n",
      "24\n",
      "62\n",
      "72\n",
      "557\n",
      "819\n",
      "[(14, 72), (24, 557), (62, 819)]\n",
      "16\n",
      "15\n",
      "69\n",
      "435\n",
      "779\n",
      "232\n",
      "[(15, 779), (16, 435), (69, 232)]\n",
      "[[(16, 498), (24, 861), (60, 589)], [(14, 72), (24, 557), (62, 819)], [(15, 779), (16, 435), (69, 232)]]\n",
      "2\n",
      "1\n",
      "3\n"
     ]
    }
   ],
   "source": [
    "#P-> No.of problems\n",
    "#s-> No.of Subtasks\n",
    "p=int(input())\n",
    "s=int(input())\n",
    "problems=[]\n",
    "for i in range(p):\n",
    "    sub_tasks=[]\n",
    "    studs=[]\n",
    "    for j in range(s):\n",
    "        x=int(input())\n",
    "        sub_tasks.append(x)\n",
    "    for j in range(s):\n",
    "        x=int(input())\n",
    "        studs.append(x)\n",
    "    \n",
    "    #Mapping the 2 lists(subtasks and corresponding No.of students solved the subtasks)\n",
    "    dict1=dict(zip(sub_tasks,studs))\n",
    "    \n",
    "    #Sorting the dictionary in increasing order of sub_task values\n",
    "    dict1=sorted(dict1.items())\n",
    "    problems.append(dict1)\n",
    "    print(dict1)\n",
    "\n",
    "print(problems)\n",
    "#Finding the difficulty \n",
    "difficulty={}\n",
    "for i in range(p):\n",
    "    count=0\n",
    "    \n",
    "    x=0\n",
    "    for j in range(s):\n",
    "        y=problems[i][j][1]\n",
    "        if x > y:\n",
    "            count=count+1\n",
    "        x=y\n",
    "    difficulty[i]=count\n",
    "#sorting the problems based on difficulty level\n",
    "sorted(difficulty.items())\n",
    "\n",
    "#printing the result\n",
    "for i in difficulty:\n",
    "    print(difficulty[i]+1)\n",
    "    \n",
    "\n",
    "    \n",
    "    \n"
   ]
  },
  {
   "cell_type": "code",
   "execution_count": 69,
   "metadata": {},
   "outputs": [
    {
     "name": "stdout",
     "output_type": "stream",
     "text": [
      "{16: 498, 24: 861, 60: 589}\n",
      "{14: 72, 24: 557, 62: 819}\n",
      "[(15, 779), (16, 435), (69, 232)]\n"
     ]
    }
   ],
   "source": [
    "dict1={16: 498, 24: 861, 60: 589}\n",
    "dict2={14: 72, 24: 557, 62: 819}\n",
    "dict3={16: 435, 15: 779, 69: 232}\n",
    "dict3=sorted(dict3.items())\n",
    "sorted(dict2.items())\n",
    "sorted(dict1.items())\n",
    "\n",
    "print(dict1)\n",
    "print(dict2)\n",
    "print(dict3)"
   ]
  },
  {
   "cell_type": "code",
   "execution_count": 75,
   "metadata": {},
   "outputs": [
    {
     "name": "stdout",
     "output_type": "stream",
     "text": [
      "24\n"
     ]
    }
   ],
   "source": [
    "x=[[(16, 498), (24, 861), (60, 589)], [(14, 72), (24, 557), (62, 819)], [(15, 779), (16, 435), (69, 232)]]\n",
    "print(x[0][1][0])"
   ]
  },
  {
   "cell_type": "code",
   "execution_count": 14,
   "metadata": {},
   "outputs": [
    {
     "ename": "SyntaxError",
     "evalue": "invalid syntax (<ipython-input-14-7b094c3b6292>, line 3)",
     "output_type": "error",
     "traceback": [
      "\u001b[0;36m  File \u001b[0;32m\"<ipython-input-14-7b094c3b6292>\"\u001b[0;36m, line \u001b[0;32m3\u001b[0m\n\u001b[0;31m    print(%(key,value))\u001b[0m\n\u001b[0m          ^\u001b[0m\n\u001b[0;31mSyntaxError\u001b[0m\u001b[0;31m:\u001b[0m invalid syntax\n"
     ]
    }
   ],
   "source": [
    "def myfun(**kwargs):\n",
    "    for key,value in kwargs.items():\n",
    "        print((key,value))\n",
    "myfun(jai=\"jai\",second=\"monu\")"
   ]
  },
  {
   "cell_type": "code",
   "execution_count": 24,
   "metadata": {},
   "outputs": [
    {
     "data": {
      "text/plain": [
       "{'jai': (1, 2), 'j': (3, 4)}"
      ]
     },
     "execution_count": 24,
     "metadata": {},
     "output_type": "execute_result"
    }
   ],
   "source": [
    "dict_jai={\"jai\":(1,2),\"j\":(3,4)}\n",
    "dict_jai"
   ]
  },
  {
   "cell_type": "code",
   "execution_count": 26,
   "metadata": {},
   "outputs": [
    {
     "data": {
      "text/plain": [
       "2.0"
      ]
     },
     "execution_count": 26,
     "metadata": {},
     "output_type": "execute_result"
    }
   ],
   "source": [
    "import math\n",
    "\n",
    "q=math.sqrt(4)\n",
    "if "
   ]
  },
  {
   "cell_type": "code",
   "execution_count": 16,
   "metadata": {},
   "outputs": [
    {
     "name": "stdout",
     "output_type": "stream",
     "text": [
      "adb shell am broadcast -a amazon.speech.SEND_TO_SIM --es ttsText \"\"Alexa, open netflix\"\"\n"
     ]
    }
   ],
   "source": [
    "cmd=\"Alexa, open netflix\"\n",
    "str='adb shell am broadcast -a amazon.speech.SEND_TO_SIM --es ttsText \"\\\"'+cmd+'\\\"\"'\n",
    "print(str)\n",
    "#tts=\"adb shell am broadcast -a amazon.speech.SEND_TO_SIM --es ttsText \"\\\"\"+cmd+\"\"\"\""
   ]
  },
  {
   "cell_type": "code",
   "execution_count": null,
   "metadata": {},
   "outputs": [],
   "source": []
  }
 ],
 "metadata": {
  "kernelspec": {
   "display_name": "Python 3",
   "language": "python",
   "name": "python3"
  },
  "language_info": {
   "codemirror_mode": {
    "name": "ipython",
    "version": 3
   },
   "file_extension": ".py",
   "mimetype": "text/x-python",
   "name": "python",
   "nbconvert_exporter": "python",
   "pygments_lexer": "ipython3",
   "version": "3.6.5"
  }
 },
 "nbformat": 4,
 "nbformat_minor": 2
}
