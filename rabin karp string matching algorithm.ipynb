{
 "cells": [
  {
   "cell_type": "code",
   "execution_count": 3,
   "metadata": {},
   "outputs": [
    {
     "name": "stdout",
     "output_type": "stream",
     "text": [
      "Enter the textabcdefabc\n",
      "Enter the patternabc\n",
      "abc\n",
      "0\n",
      "abc\n",
      "6\n"
     ]
    }
   ],
   "source": [
    "text=input(\"Enter the text\")\n",
    "pattern=input(\"Enter the pattern\")\n",
    "n=len(pattern)\n",
    "m=len(text)\n",
    "iterator=0\n",
    "for iterator in range(m-n+1):\n",
    "    if(text[iterator:iterator+n]==pattern):\n",
    "        print(text[iterator:iterator+n])\n",
    "        print(iterator)\n"
   ]
  },
  {
   "cell_type": "code",
   "execution_count": null,
   "metadata": {},
   "outputs": [],
   "source": []
  }
 ],
 "metadata": {
  "kernelspec": {
   "display_name": "Python 3",
   "language": "python",
   "name": "python3"
  },
  "language_info": {
   "codemirror_mode": {
    "name": "ipython",
    "version": 3
   },
   "file_extension": ".py",
   "mimetype": "text/x-python",
   "name": "python",
   "nbconvert_exporter": "python",
   "pygments_lexer": "ipython3",
   "version": "3.6.5"
  }
 },
 "nbformat": 4,
 "nbformat_minor": 2
}
