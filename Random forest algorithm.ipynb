{
 "cells": [
  {
   "cell_type": "code",
   "execution_count": null,
   "metadata": {},
   "outputs": [],
   "source": [
    "\"\"\"Random Forest algorithm\"\"\"\n",
    "\n",
    "from sklearn.tree import DecisionTreeClassifier\n",
    "import pandas as pd\n",
    "import csv\n",
    "from sklearn.model_selection import train_test_split \n",
    "from sklearn import datasets, metrics \n",
    "from sklearn.ensemble import RandomForestClassifier\n",
    "\n",
    "import numpy as np\n",
    "reader = csv.reader(open(\"Book3.csv\"))\n",
    "data={}\n",
    "for row in reader:\n",
    "    data[row[0]]=row[1:]\n",
    "    \n",
    "# df=pd.DataFrame(data)\n",
    "# print(df.dtypes)\n",
    "train_data= np.vstack((data['Current arrear1'], data['Stand arrear1'],data['CGPA1'],data['Current arrear2'], data['Stand arrear2'],data['CGPA2'],data['Current arrear3'], data['Stand arrear3'],data['CGPA3'],data['Current arrear4'], data['Stand arrear4'],data['CGPA4'],data['Current arrear5'], data['Stand arrear5'],data['CGPA5'],data['Current arrear6'], data['Stand arrear6'],data['CGPA6'],data['Current arrear7'], data['Stand arrear7'],data['CGPA7'])).T\n",
    "target_data=data['CGPA8']\n",
    "X_train, X_test, y_train, y_test = train_test_split(train_data,target_data)\n",
    "tree = RandomForestClassifier(random_state=0)\n",
    "tree.fit(X_train, y_train)\n",
    "X_new = np.array([[0,0,7.15,0,0,6.76,1,1,6.42,0,0,6.82,0,0,7.06,0,0,7.17,0,0,7.14]])\n",
    "prediction =tree.predict(X_new)\n",
    "print(prediction)"
   ]
  }
 ],
 "metadata": {
  "kernelspec": {
   "display_name": "Python 3",
   "language": "python",
   "name": "python3"
  },
  "language_info": {
   "codemirror_mode": {
    "name": "ipython",
    "version": 3
   },
   "file_extension": ".py",
   "mimetype": "text/x-python",
   "name": "python",
   "nbconvert_exporter": "python",
   "pygments_lexer": "ipython3",
   "version": "3.6.5"
  }
 },
 "nbformat": 4,
 "nbformat_minor": 2
}
